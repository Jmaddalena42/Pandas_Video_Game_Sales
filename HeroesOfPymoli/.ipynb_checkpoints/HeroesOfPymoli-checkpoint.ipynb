{
 "cells": [
  {
   "cell_type": "code",
   "execution_count": 3,
   "metadata": {},
   "outputs": [],
   "source": [
    "# Dependencies and Setup\n",
    "import pandas as pd\n",
    "\n",
    "# File Path is different when using on other computers\n",
    "# file_to_load = \"C:\\\\Users\\\\JMadd\\\\Desktop\\\\Homework\\\\04-Pandas\\\\Instructions\\\\HeroesOfPymoli\\\\Resources\\\\purchase_data.csv\"\n",
    "\n",
    "file_to_load = \"Resources\\\\purchase_data.csv\"\n",
    "\n",
    "# Read Purchasing File and store into Pandas data frame\n",
    "df = pd.read_csv(file_to_load)"
   ]
  },
  {
   "cell_type": "code",
   "execution_count": 4,
   "metadata": {},
   "outputs": [
    {
     "name": "stdout",
     "output_type": "stream",
     "text": [
      "576\n"
     ]
    }
   ],
   "source": [
    "#Display the total number of players\n",
    "\n",
    "total_players = df['SN'].nunique()\n",
    "print(total_players)"
   ]
  },
  {
   "cell_type": "code",
   "execution_count": 5,
   "metadata": {
    "scrolled": false
   },
   "outputs": [
    {
     "name": "stdout",
     "output_type": "stream",
     "text": [
      "   Number of unique items Average Price  Number of Purchases Total Revenue\n",
      "0                     183        $ 3.05                  780    $ 2,379.77\n"
     ]
    }
   ],
   "source": [
    "#Run basic calculations to obtain number of unique items, average price, etc.\n",
    "#Create a summary data frame to hold the results\n",
    "#Display the summary data frame\n",
    "\n",
    "numitems = df['Item ID'].nunique()\n",
    "\n",
    "meanprice = df['Price'].mean()\n",
    "\n",
    "tp = df['Purchase ID'].count()\n",
    "\n",
    "revenue = df['Price'].sum()\n",
    "\n",
    "summary1 = pd.DataFrame.from_dict({\"Number of unique items\":[numitems],\"Average Price\":[meanprice],\"Number of Purchases\":[tp],\"Total Revenue\":[revenue]}, orient='columns')\n",
    "\n",
    "summary1[\"Total Revenue\"] = summary1[\"Total Revenue\"].map(\"$ {:,.2f}\".format)\n",
    "summary1[\"Average Price\"] = summary1[\"Average Price\"].map(\"$ {:,.2f}\".format)\n",
    "\n",
    "print(summary1)"
   ]
  },
  {
   "cell_type": "code",
   "execution_count": 6,
   "metadata": {},
   "outputs": [
    {
     "name": "stdout",
     "output_type": "stream",
     "text": [
      "                      Percent  Count\n",
      "Male                   %84.03    484\n",
      "Female                 %14.06     81\n",
      "Other / Non-Disclosed   %1.91     11\n"
     ]
    }
   ],
   "source": [
    "#Percentage and Count of Male Players\n",
    "#Percentage and Count of Female Players\n",
    "#Percentage and Count of Other / Non-Disclosed\n",
    "\n",
    "df2 = df.groupby(['SN','Gender', 'Age']).count().reset_index()\n",
    "\n",
    "count = df2.Gender.value_counts()\n",
    "\n",
    "percentage = ((count/len(df2.index))*100).map('%{:,.2f}'.format)\n",
    "\n",
    "summary2 = pd.DataFrame({'Percent': percentage, 'Count': count})\n",
    "\n",
    "print(summary2)"
   ]
  },
  {
   "cell_type": "code",
   "execution_count": 7,
   "metadata": {},
   "outputs": [
    {
     "name": "stdout",
     "output_type": "stream",
     "text": [
      "                       Items Purchased Average Price Total Spent\n",
      "Gender                                                          \n",
      "Female                             113         $3.20     $361.94\n",
      "Male                               652         $3.02   $1,967.64\n",
      "Other / Non-Disclosed               15         $3.35      $50.19\n"
     ]
    }
   ],
   "source": [
    "#Run basic calculations to obtain purchase count, avg. purchase price, avg. purchase total per person etc. by gender\n",
    "#Create a summary data frame to hold the results\n",
    "#Display the summary data frame\n",
    "\n",
    "\n",
    "gpcount = df.groupby(['Gender'])['Purchase ID'].count()\n",
    "\n",
    "app = df.groupby(['Gender'])['Price'].mean().map('${:,.2f}'.format)\n",
    "\n",
    "\n",
    "atpp = df.groupby(['Gender'])['Price'].sum().map('${:,.2f}'.format)\n",
    "\n",
    "summary3 = pd.DataFrame({'Items Purchased': gpcount, 'Average Price': app, 'Total Spent': atpp})\n",
    "                    \n",
    "print(summary3)"
   ]
  },
  {
   "cell_type": "code",
   "execution_count": 8,
   "metadata": {},
   "outputs": [
    {
     "name": "stdout",
     "output_type": "stream",
     "text": [
      "  AgeGroup  Number Percent\n",
      "0      <10      23   %2.95\n",
      "1    10-13      26   %3.33\n",
      "2    14-17      89  %11.41\n",
      "3    18-21     210  %26.92\n",
      "4    22-25     263  %33.72\n",
      "5    26-29      42   %5.38\n",
      "6    30-33      64   %8.21\n",
      "7    34-37      35   %4.49\n",
      "8    38-40      21   %2.69\n",
      "9      50>       7   %0.90\n"
     ]
    }
   ],
   "source": [
    "#Establish bins for ages\n",
    "#Categorize the existing players using the age bins. Hint: use pd.cut()\n",
    "#Calculate the numbers and percentages by age group\n",
    "#Create a summary data frame to hold the results\n",
    "#Display Age Demographics Table\n",
    "\n",
    "df3 = df[['SN', 'Age', 'Price']].copy()\n",
    "\n",
    "summary4= pd.DataFrame(zip(df3.SN, df3.Age,))\n",
    "\n",
    "bins = [0, 9, 13, 17, 21, 25, 29, 33, 37, 40, 50]\n",
    "group_names = ['<10', '10-13', '14-17', '18-21', '22-25', '26-29', '30-33', '34-37', '38-40', '50>']\n",
    "\n",
    "\n",
    "df3['AgeGroup'] = pd.cut(df3['Age'], bins, labels=group_names)\n",
    "\n",
    "\n",
    "Ag = df3.groupby(['AgeGroup'])['Age'].count()\n",
    "Pag = ((df3.groupby(['AgeGroup'])['Age'].count())/len(df3)*100).map('%{:,.2f}'.format)\n",
    "\n",
    "summary4 = pd.DataFrame({'Number': Ag, 'Percent': Pag}).reset_index()\n",
    "\n",
    "print(summary4)\n",
    "\n"
   ]
  },
  {
   "cell_type": "code",
   "execution_count": 20,
   "metadata": {},
   "outputs": [
    {
     "name": "stdout",
     "output_type": "stream",
     "text": [
      "  AgeGroup  # of Purchases Average Price Total Spent\n",
      "0      <10              23         $3.35      $77.13\n",
      "1    10-13              26         $2.92      $75.87\n",
      "2    14-17              89         $3.01     $267.60\n",
      "3    18-21             210         $3.08     $647.26\n",
      "4    22-25             263         $3.05     $800.90\n",
      "5    26-29              42         $2.65     $111.10\n",
      "6    30-33              64         $3.00     $191.87\n",
      "7    34-37              35         $3.21     $112.33\n",
      "8    38-40              21         $3.53      $74.18\n",
      "9      >40               7         $3.08      $21.53\n"
     ]
    }
   ],
   "source": [
    "#Bin the purchase_data data frame by age\n",
    "#Run basic calculations to obtain purchase count, avg. purchase price, avg. purchase total per person etc. in the table below\n",
    "#Create a summary data frame to hold the results\n",
    "#Display the summary data frame\n",
    "\n",
    "df4 = df[['Age', 'Gender', 'Price']].copy()\n",
    "\n",
    "summary5 = pd.DataFrame(zip(df4.Age, df4.Gender, df4.Price))\n",
    "\n",
    "bins = [0, 9, 13, 17, 21, 25, 29, 33, 37, 40, 120]\n",
    "group_names = ['<10', '10-13', '14-17', '18-21', '22-25', '26-29', '30-33', '34-37', '38-40', '>40']\n",
    "\n",
    "df4['AgeGroup'] = pd.cut(df4['Age'], bins, labels=group_names)\n",
    "\n",
    "Agc = df4.groupby(['AgeGroup'])['Price'].count()\n",
    "Agapp = df4.groupby(['AgeGroup'])['Price'].mean().map('${:,.2f}'.format)\n",
    "Agtps = df4.groupby(['AgeGroup'])['Price'].sum().map('${:,.2f}'.format)\n",
    "\n",
    "summary5 = pd.DataFrame({'# of Purchases': Agc, 'Average Price': Agapp, 'Total Spent': Agtps,}).reset_index()\n",
    "\n",
    "print(summary5) \n"
   ]
  },
  {
   "cell_type": "code",
   "execution_count": 23,
   "metadata": {},
   "outputs": [
    {
     "data": {
      "text/html": [
       "<div>\n",
       "<style scoped>\n",
       "    .dataframe tbody tr th:only-of-type {\n",
       "        vertical-align: middle;\n",
       "    }\n",
       "\n",
       "    .dataframe tbody tr th {\n",
       "        vertical-align: top;\n",
       "    }\n",
       "\n",
       "    .dataframe thead th {\n",
       "        text-align: right;\n",
       "    }\n",
       "</style>\n",
       "<table border=\"1\" class=\"dataframe\">\n",
       "  <thead>\n",
       "    <tr style=\"text-align: right;\">\n",
       "      <th></th>\n",
       "      <th>SN</th>\n",
       "      <th>Total</th>\n",
       "    </tr>\n",
       "  </thead>\n",
       "  <tbody>\n",
       "    <tr>\n",
       "      <th>0</th>\n",
       "      <td>Lisosia93</td>\n",
       "      <td>$ 18.96</td>\n",
       "    </tr>\n",
       "    <tr>\n",
       "      <th>1</th>\n",
       "      <td>Idastidru52</td>\n",
       "      <td>$ 15.45</td>\n",
       "    </tr>\n",
       "    <tr>\n",
       "      <th>2</th>\n",
       "      <td>Chamjask73</td>\n",
       "      <td>$ 13.83</td>\n",
       "    </tr>\n",
       "    <tr>\n",
       "      <th>3</th>\n",
       "      <td>Iral74</td>\n",
       "      <td>$ 13.62</td>\n",
       "    </tr>\n",
       "    <tr>\n",
       "      <th>4</th>\n",
       "      <td>Iskadarya95</td>\n",
       "      <td>$ 13.10</td>\n",
       "    </tr>\n",
       "  </tbody>\n",
       "</table>\n",
       "</div>"
      ],
      "text/plain": [
       "            SN    Total\n",
       "0    Lisosia93  $ 18.96\n",
       "1  Idastidru52  $ 15.45\n",
       "2   Chamjask73  $ 13.83\n",
       "3       Iral74  $ 13.62\n",
       "4  Iskadarya95  $ 13.10"
      ]
     },
     "execution_count": 23,
     "metadata": {},
     "output_type": "execute_result"
    }
   ],
   "source": [
    "#Run basic calculations to obtain the results in the table below\n",
    "#Create a summary data frame to hold the results\n",
    "#Sort the total purchase value column in descending order\n",
    "#Display a preview of the summary data frame\n",
    "\n",
    "TS = df.groupby(['SN'])['Price'].sum()\n",
    "\n",
    "TS2 = pd.DataFrame({'Total': TS})\n",
    "\n",
    "summary6 = TS2.nlargest(5, ['Total']).reset_index()\n",
    "\n",
    "summary6[\"Total\"] = summary6[\"Total\"].map(\"$ {:,.2f}\".format)\n",
    "\n",
    "summary6\n"
   ]
  },
  {
   "cell_type": "code",
   "execution_count": 25,
   "metadata": {},
   "outputs": [
    {
     "data": {
      "text/html": [
       "<div>\n",
       "<style scoped>\n",
       "    .dataframe tbody tr th:only-of-type {\n",
       "        vertical-align: middle;\n",
       "    }\n",
       "\n",
       "    .dataframe tbody tr th {\n",
       "        vertical-align: top;\n",
       "    }\n",
       "\n",
       "    .dataframe thead th {\n",
       "        text-align: right;\n",
       "    }\n",
       "</style>\n",
       "<table border=\"1\" class=\"dataframe\">\n",
       "  <thead>\n",
       "    <tr style=\"text-align: right;\">\n",
       "      <th></th>\n",
       "      <th>Item ID</th>\n",
       "      <th>Item Name</th>\n",
       "      <th>Price</th>\n",
       "      <th>Number Sold by Item</th>\n",
       "      <th>Total Revenue per Item</th>\n",
       "    </tr>\n",
       "  </thead>\n",
       "  <tbody>\n",
       "    <tr>\n",
       "      <th>0</th>\n",
       "      <td>178</td>\n",
       "      <td>Oathbreaker, Last Hope of the Breaking Storm</td>\n",
       "      <td>$ 4.23</td>\n",
       "      <td>12</td>\n",
       "      <td>$ 50.76</td>\n",
       "    </tr>\n",
       "    <tr>\n",
       "      <th>1</th>\n",
       "      <td>82</td>\n",
       "      <td>Nirvana</td>\n",
       "      <td>$ 4.90</td>\n",
       "      <td>9</td>\n",
       "      <td>$ 44.10</td>\n",
       "    </tr>\n",
       "    <tr>\n",
       "      <th>2</th>\n",
       "      <td>108</td>\n",
       "      <td>Extraction, Quickblade Of Trembling Hands</td>\n",
       "      <td>$ 3.53</td>\n",
       "      <td>9</td>\n",
       "      <td>$ 31.77</td>\n",
       "    </tr>\n",
       "    <tr>\n",
       "      <th>3</th>\n",
       "      <td>145</td>\n",
       "      <td>Fiery Glass Crusader</td>\n",
       "      <td>$ 4.58</td>\n",
       "      <td>9</td>\n",
       "      <td>$ 41.22</td>\n",
       "    </tr>\n",
       "    <tr>\n",
       "      <th>4</th>\n",
       "      <td>19</td>\n",
       "      <td>Pursuit, Cudgel of Necromancy</td>\n",
       "      <td>$ 1.02</td>\n",
       "      <td>8</td>\n",
       "      <td>$ 8.16</td>\n",
       "    </tr>\n",
       "  </tbody>\n",
       "</table>\n",
       "</div>"
      ],
      "text/plain": [
       "   Item ID                                     Item Name   Price  \\\n",
       "0      178  Oathbreaker, Last Hope of the Breaking Storm  $ 4.23   \n",
       "1       82                                       Nirvana  $ 4.90   \n",
       "2      108     Extraction, Quickblade Of Trembling Hands  $ 3.53   \n",
       "3      145                          Fiery Glass Crusader  $ 4.58   \n",
       "4       19                 Pursuit, Cudgel of Necromancy  $ 1.02   \n",
       "\n",
       "   Number Sold by Item Total Revenue per Item  \n",
       "0                   12                $ 50.76  \n",
       "1                    9                $ 44.10  \n",
       "2                    9                $ 31.77  \n",
       "3                    9                $ 41.22  \n",
       "4                    8                 $ 8.16  "
      ]
     },
     "execution_count": 25,
     "metadata": {},
     "output_type": "execute_result"
    }
   ],
   "source": [
    "#Retrieve the Item ID, Item Name, and Item Price columns\n",
    "#Group by Item ID and Item Name. Perform calculations to obtain purchase count, item price, and total purchase value\n",
    "#Create a summary data frame to hold the results\n",
    "#Sort the purchase count column in descending order\n",
    "#Display a preview of the summary data frame\n",
    "\n",
    "df5 = df[['Item ID', 'Item Name', 'Price']].copy()\n",
    "\n",
    "MPop = df5.groupby(['Item ID', 'Item Name', 'Price'])['Price'].count()\n",
    "\n",
    "MPop2 = df5.groupby(['Item ID', 'Item Name', 'Price'])['Price'].sum()\n",
    "\n",
    "MPop3 = pd.DataFrame({'Number Sold by Item': MPop, 'Total Revenue per Item': MPop2})\n",
    "\n",
    "mPop4 = MPop3.nlargest(5, ['Number Sold by Item'])\n",
    "\n",
    "summary7 = mPop4.sort_values(by='Number Sold by Item', ascending=False).reset_index()\n",
    "\n",
    "summary7[\"Price\"] = summary7[\"Price\"].map(\"$ {:,.2f}\".format)\n",
    "\n",
    "summary7[\"Total Revenue per Item\"] = summary7[\"Total Revenue per Item\"].map(\"$ {:,.2f}\".format)\n",
    "\n",
    "summary7"
   ]
  },
  {
   "cell_type": "code",
   "execution_count": 26,
   "metadata": {
    "scrolled": true
   },
   "outputs": [
    {
     "data": {
      "text/html": [
       "<div>\n",
       "<style scoped>\n",
       "    .dataframe tbody tr th:only-of-type {\n",
       "        vertical-align: middle;\n",
       "    }\n",
       "\n",
       "    .dataframe tbody tr th {\n",
       "        vertical-align: top;\n",
       "    }\n",
       "\n",
       "    .dataframe thead th {\n",
       "        text-align: right;\n",
       "    }\n",
       "</style>\n",
       "<table border=\"1\" class=\"dataframe\">\n",
       "  <thead>\n",
       "    <tr style=\"text-align: right;\">\n",
       "      <th></th>\n",
       "      <th>Item ID</th>\n",
       "      <th>Item Name</th>\n",
       "      <th>Price</th>\n",
       "      <th>Number Sold by Item</th>\n",
       "      <th>Total Revenue per Item</th>\n",
       "    </tr>\n",
       "  </thead>\n",
       "  <tbody>\n",
       "    <tr>\n",
       "      <th>0</th>\n",
       "      <td>178</td>\n",
       "      <td>Oathbreaker, Last Hope of the Breaking Storm</td>\n",
       "      <td>$ 4.23</td>\n",
       "      <td>12</td>\n",
       "      <td>$ 50.76</td>\n",
       "    </tr>\n",
       "    <tr>\n",
       "      <th>1</th>\n",
       "      <td>82</td>\n",
       "      <td>Nirvana</td>\n",
       "      <td>$ 4.90</td>\n",
       "      <td>9</td>\n",
       "      <td>$ 44.10</td>\n",
       "    </tr>\n",
       "    <tr>\n",
       "      <th>2</th>\n",
       "      <td>145</td>\n",
       "      <td>Fiery Glass Crusader</td>\n",
       "      <td>$ 4.58</td>\n",
       "      <td>9</td>\n",
       "      <td>$ 41.22</td>\n",
       "    </tr>\n",
       "    <tr>\n",
       "      <th>3</th>\n",
       "      <td>92</td>\n",
       "      <td>Final Critic</td>\n",
       "      <td>$ 4.88</td>\n",
       "      <td>8</td>\n",
       "      <td>$ 39.04</td>\n",
       "    </tr>\n",
       "    <tr>\n",
       "      <th>4</th>\n",
       "      <td>103</td>\n",
       "      <td>Singed Scalpel</td>\n",
       "      <td>$ 4.35</td>\n",
       "      <td>8</td>\n",
       "      <td>$ 34.80</td>\n",
       "    </tr>\n",
       "  </tbody>\n",
       "</table>\n",
       "</div>"
      ],
      "text/plain": [
       "   Item ID                                     Item Name   Price  \\\n",
       "0      178  Oathbreaker, Last Hope of the Breaking Storm  $ 4.23   \n",
       "1       82                                       Nirvana  $ 4.90   \n",
       "2      145                          Fiery Glass Crusader  $ 4.58   \n",
       "3       92                                  Final Critic  $ 4.88   \n",
       "4      103                                Singed Scalpel  $ 4.35   \n",
       "\n",
       "   Number Sold by Item Total Revenue per Item  \n",
       "0                   12                $ 50.76  \n",
       "1                    9                $ 44.10  \n",
       "2                    9                $ 41.22  \n",
       "3                    8                $ 39.04  \n",
       "4                    8                $ 34.80  "
      ]
     },
     "execution_count": 26,
     "metadata": {},
     "output_type": "execute_result"
    }
   ],
   "source": [
    "#Sort the above table by total purchase value in descending order\n",
    "#Display a preview of the data frame\n",
    "\n",
    "MProf = MPop3.nlargest(5, ['Total Revenue per Item'])\n",
    "\n",
    "summary8 = MProf.sort_values(by='Total Revenue per Item', ascending=False).reset_index()\n",
    "\n",
    "summary8[\"Price\"] = summary8[\"Price\"].map(\"$ {:,.2f}\".format)\n",
    "\n",
    "summary8[\"Total Revenue per Item\"] = summary8[\"Total Revenue per Item\"].map(\"$ {:,.2f}\".format)\n",
    "\n",
    "summary8"
   ]
  },
  {
   "cell_type": "code",
   "execution_count": null,
   "metadata": {},
   "outputs": [],
   "source": [
    "Data Analysis:\n",
    "\n",
    "#1 The item that sold the most units made up 2.1% of Total Revenue and was priced at  1.18 above the average price of 3.05.\n",
    "\n",
    "#2 %60.64 of purchases are made by people from 18 to 25 years old.\n",
    "\n",
    "#3 Males, Females, and Other make up 82.6%, 15.2%, and 1.91% pf the population respectively. \n",
    "#Other spend the most on money per individual  3.35, followed by females 3.20, and Males spend the least at $3.05"
   ]
  }
 ],
 "metadata": {
  "anaconda-cloud": {},
  "kernel_info": {
   "name": "python3"
  },
  "kernelspec": {
   "display_name": "Python 3",
   "language": "python",
   "name": "python3"
  },
  "language_info": {
   "codemirror_mode": {
    "name": "ipython",
    "version": 3
   },
   "file_extension": ".py",
   "mimetype": "text/x-python",
   "name": "python",
   "nbconvert_exporter": "python",
   "pygments_lexer": "ipython3",
   "version": "3.7.3"
  },
  "latex_envs": {
   "LaTeX_envs_menu_present": true,
   "autoclose": false,
   "autocomplete": true,
   "bibliofile": "biblio.bib",
   "cite_by": "apalike",
   "current_citInitial": 1,
   "eqLabelWithNumbers": true,
   "eqNumInitial": 1,
   "hotkeys": {
    "equation": "Ctrl-E",
    "itemize": "Ctrl-I"
   },
   "labels_anchors": false,
   "latex_user_defs": false,
   "report_style_numbering": false,
   "user_envs_cfg": false
  },
  "nteract": {
   "version": "0.2.0"
  }
 },
 "nbformat": 4,
 "nbformat_minor": 2
}
